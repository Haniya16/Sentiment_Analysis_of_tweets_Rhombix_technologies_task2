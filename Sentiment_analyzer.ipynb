{
 "cells": [
  {
   "cell_type": "markdown",
   "id": "86f6372a-36a8-40d6-a456-0f9b985d4dd5",
   "metadata": {},
   "source": [
    "# Tweets Sentiment Analysis Using Machine Learning Algorithm\n",
    "---\n",
    "For this project, I use a Kaggle DataSet and perform complete steps to prepare the Model. I also tested the data by adding some new tweets. "
   ]
  },
  {
   "cell_type": "markdown",
   "id": "f3aed441-99d4-477f-a3da-e4428732f8c7",
   "metadata": {},
   "source": [
    "## Index of Steps we are going to follow\n",
    "---\n",
    "1. import libraries\n",
    "2. upload dataset CSV file\n",
    "3. Preprocess the data for the Model\n",
    "4. Split Testing & Training set of data\n",
    "5. Convert text data into numeric form using TD-IDF vectorization\n",
    "6. Handle Imbalance using SMOTE\n",
    "7. Save vector & Scalor using .pkl \n",
    "8. Split the train & test data \n",
    "9. Train Models & save using .pkl \n",
    "10. Evaluate the Model\n",
    "11. Classification & Accuracy report with F1-score\n",
    "12. Precision-recall curve Graph\n",
    "13. Some Graph to check the Model Accuracy\n",
    "14. Prediction of new tweets"
   ]
  },
  {
   "cell_type": "markdown",
   "id": "479cbac7-5702-4e8a-8b7d-ca3cc9c5ce20",
   "metadata": {},
   "source": [
    "## Import Libraries\n",
    "* Some important libraries for data upload, preprocess, Split training and testing, Algorithm implementation, plotting Evalation"
   ]
  },
  {
   "cell_type": "code",
   "execution_count": 52,
   "id": "3ce14fe9-9bde-4f0e-a15b-fb9cbd297311",
   "metadata": {},
   "outputs": [],
   "source": [
    "# Required Libraries\n",
    "import pandas as pd\n",
    "import numpy as np\n",
    "import re\n",
    "import string\n",
    "import matplotlib.pyplot as plt\n",
    "import seaborn as sns\n",
    "from sklearn.feature_extraction.text import TfidfVectorizer\n",
    "from sklearn.model_selection import train_test_split, GridSearchCV\n",
    "from sklearn.model_selection import train_test_split\n",
    "from sklearn.linear_model import LogisticRegression\n",
    "from sklearn.metrics import classification_report, accuracy_score, f1_score, precision_recall_curve\n",
    "from imblearn.over_sampling import SMOTE\n",
    "from sklearn.preprocessing import StandardScaler\n",
    "from sklearn.preprocessing import label_binarize\n",
    "import joblib  # For saving models and artifacts"
   ]
  },
  {
   "cell_type": "markdown",
   "id": "8736c4fa-a0b6-47b5-b2d6-6320294d56c8",
   "metadata": {},
   "source": [
    "## Loading the Data Show the Structure of Data \n",
    "---\n",
    "* Data is in CSV file formate.\n",
    "* load the data And see the head of DataSet.  "
   ]
  },
  {
   "cell_type": "code",
   "execution_count": 2,
   "id": "ab681719-5b59-4d8b-ab60-227ecdc6175c",
   "metadata": {},
   "outputs": [
    {
     "data": {
      "text/html": [
       "<div>\n",
       "<style scoped>\n",
       "    .dataframe tbody tr th:only-of-type {\n",
       "        vertical-align: middle;\n",
       "    }\n",
       "\n",
       "    .dataframe tbody tr th {\n",
       "        vertical-align: top;\n",
       "    }\n",
       "\n",
       "    .dataframe thead th {\n",
       "        text-align: right;\n",
       "    }\n",
       "</style>\n",
       "<table border=\"1\" class=\"dataframe\">\n",
       "  <thead>\n",
       "    <tr style=\"text-align: right;\">\n",
       "      <th></th>\n",
       "      <th>textID</th>\n",
       "      <th>text</th>\n",
       "      <th>selected_text</th>\n",
       "      <th>sentiment</th>\n",
       "    </tr>\n",
       "  </thead>\n",
       "  <tbody>\n",
       "    <tr>\n",
       "      <th>0</th>\n",
       "      <td>cb774db0d1</td>\n",
       "      <td>I`d have responded, if I were going</td>\n",
       "      <td>I`d have responded, if I were going</td>\n",
       "      <td>neutral</td>\n",
       "    </tr>\n",
       "    <tr>\n",
       "      <th>1</th>\n",
       "      <td>549e992a42</td>\n",
       "      <td>Sooo SAD I will miss you here in San Diego!!!</td>\n",
       "      <td>Sooo SAD</td>\n",
       "      <td>negative</td>\n",
       "    </tr>\n",
       "    <tr>\n",
       "      <th>2</th>\n",
       "      <td>088c60f138</td>\n",
       "      <td>my boss is bullying me...</td>\n",
       "      <td>bullying me</td>\n",
       "      <td>negative</td>\n",
       "    </tr>\n",
       "    <tr>\n",
       "      <th>3</th>\n",
       "      <td>9642c003ef</td>\n",
       "      <td>what interview! leave me alone</td>\n",
       "      <td>leave me alone</td>\n",
       "      <td>negative</td>\n",
       "    </tr>\n",
       "    <tr>\n",
       "      <th>4</th>\n",
       "      <td>358bd9e861</td>\n",
       "      <td>Sons of ****, why couldn`t they put them on t...</td>\n",
       "      <td>Sons of ****,</td>\n",
       "      <td>negative</td>\n",
       "    </tr>\n",
       "  </tbody>\n",
       "</table>\n",
       "</div>"
      ],
      "text/plain": [
       "       textID                                               text  \\\n",
       "0  cb774db0d1                I`d have responded, if I were going   \n",
       "1  549e992a42      Sooo SAD I will miss you here in San Diego!!!   \n",
       "2  088c60f138                          my boss is bullying me...   \n",
       "3  9642c003ef                     what interview! leave me alone   \n",
       "4  358bd9e861   Sons of ****, why couldn`t they put them on t...   \n",
       "\n",
       "                         selected_text sentiment  \n",
       "0  I`d have responded, if I were going   neutral  \n",
       "1                             Sooo SAD  negative  \n",
       "2                          bullying me  negative  \n",
       "3                       leave me alone  negative  \n",
       "4                        Sons of ****,  negative  "
      ]
     },
     "execution_count": 2,
     "metadata": {},
     "output_type": "execute_result"
    }
   ],
   "source": [
    "# Load the Data\n",
    "data = pd.read_csv('Tweets.csv')\n",
    "\n",
    "# Display initial data structure\n",
    "data.head()"
   ]
  },
  {
   "cell_type": "code",
   "execution_count": 3,
   "id": "35c2e110-f038-4462-89ae-c11312013cf5",
   "metadata": {},
   "outputs": [
    {
     "name": "stdout",
     "output_type": "stream",
     "text": [
      "<class 'pandas.core.frame.DataFrame'>\n",
      "RangeIndex: 27481 entries, 0 to 27480\n",
      "Data columns (total 4 columns):\n",
      " #   Column         Non-Null Count  Dtype \n",
      "---  ------         --------------  ----- \n",
      " 0   textID         27481 non-null  object\n",
      " 1   text           27480 non-null  object\n",
      " 2   selected_text  27480 non-null  object\n",
      " 3   sentiment      27481 non-null  object\n",
      "dtypes: object(4)\n",
      "memory usage: 858.9+ KB\n"
     ]
    }
   ],
   "source": [
    "# Info of Data\n",
    "data.info()"
   ]
  },
  {
   "cell_type": "markdown",
   "id": "8be48547-fb41-400c-af42-1092a5308f0f",
   "metadata": {},
   "source": [
    "## Data Preprocessing & Cleaning\n",
    "---\n",
    "* Find missing values Handle them.\n",
    "* Clean the special character from the **text column** and prepare it for the model.\n",
    "* Encode or Lable the **sentiment column** values:\n",
    " 1. Negative = **0**\n",
    " 2. Neutral = **1**\n",
    " 3. Positive = **2**"
   ]
  },
  {
   "cell_type": "code",
   "execution_count": 4,
   "id": "e30b4556-d24a-4441-865a-863616f715ca",
   "metadata": {},
   "outputs": [
    {
     "name": "stdout",
     "output_type": "stream",
     "text": [
      "\n",
      "Null values per column:\n",
      " textID           0\n",
      "text             1\n",
      "selected_text    1\n",
      "sentiment        0\n",
      "dtype: int64\n"
     ]
    }
   ],
   "source": [
    "# Find null values\n",
    "print(\"\\nNull values per column:\\n\", data.isnull().sum())"
   ]
  },
  {
   "cell_type": "code",
   "execution_count": 5,
   "id": "c0e17b5e-f433-4085-94f9-3dcd6a33fabc",
   "metadata": {},
   "outputs": [
    {
     "name": "stdout",
     "output_type": "stream",
     "text": [
      "\n",
      "Null values per column:\n",
      " textID           0\n",
      "text             0\n",
      "selected_text    0\n",
      "sentiment        0\n",
      "dtype: int64\n"
     ]
    }
   ],
   "source": [
    "# Handle missing values\n",
    "data.dropna(inplace=True)\n",
    "# Verify\n",
    "print(\"\\nNull values per column:\\n\", data.isnull().sum())"
   ]
  },
  {
   "cell_type": "code",
   "execution_count": 6,
   "id": "ab73ea13-44c4-465f-89fe-f0937795c764",
   "metadata": {},
   "outputs": [
    {
     "name": "stdout",
     "output_type": "stream",
     "text": [
      "Clean Data:\n"
     ]
    },
    {
     "data": {
      "text/html": [
       "<div>\n",
       "<style scoped>\n",
       "    .dataframe tbody tr th:only-of-type {\n",
       "        vertical-align: middle;\n",
       "    }\n",
       "\n",
       "    .dataframe tbody tr th {\n",
       "        vertical-align: top;\n",
       "    }\n",
       "\n",
       "    .dataframe thead th {\n",
       "        text-align: right;\n",
       "    }\n",
       "</style>\n",
       "<table border=\"1\" class=\"dataframe\">\n",
       "  <thead>\n",
       "    <tr style=\"text-align: right;\">\n",
       "      <th></th>\n",
       "      <th>textID</th>\n",
       "      <th>text</th>\n",
       "      <th>selected_text</th>\n",
       "      <th>sentiment</th>\n",
       "    </tr>\n",
       "  </thead>\n",
       "  <tbody>\n",
       "    <tr>\n",
       "      <th>0</th>\n",
       "      <td>cb774db0d1</td>\n",
       "      <td>id have responded if i were going</td>\n",
       "      <td>I`d have responded, if I were going</td>\n",
       "      <td>neutral</td>\n",
       "    </tr>\n",
       "    <tr>\n",
       "      <th>1</th>\n",
       "      <td>549e992a42</td>\n",
       "      <td>sooo sad i will miss you here in san diego</td>\n",
       "      <td>Sooo SAD</td>\n",
       "      <td>negative</td>\n",
       "    </tr>\n",
       "    <tr>\n",
       "      <th>2</th>\n",
       "      <td>088c60f138</td>\n",
       "      <td>my boss is bullying me</td>\n",
       "      <td>bullying me</td>\n",
       "      <td>negative</td>\n",
       "    </tr>\n",
       "    <tr>\n",
       "      <th>3</th>\n",
       "      <td>9642c003ef</td>\n",
       "      <td>what interview leave me alone</td>\n",
       "      <td>leave me alone</td>\n",
       "      <td>negative</td>\n",
       "    </tr>\n",
       "    <tr>\n",
       "      <th>4</th>\n",
       "      <td>358bd9e861</td>\n",
       "      <td>sons of why couldnt they put them on the relea...</td>\n",
       "      <td>Sons of ****,</td>\n",
       "      <td>negative</td>\n",
       "    </tr>\n",
       "  </tbody>\n",
       "</table>\n",
       "</div>"
      ],
      "text/plain": [
       "       textID                                               text  \\\n",
       "0  cb774db0d1                  id have responded if i were going   \n",
       "1  549e992a42         sooo sad i will miss you here in san diego   \n",
       "2  088c60f138                             my boss is bullying me   \n",
       "3  9642c003ef                      what interview leave me alone   \n",
       "4  358bd9e861  sons of why couldnt they put them on the relea...   \n",
       "\n",
       "                         selected_text sentiment  \n",
       "0  I`d have responded, if I were going   neutral  \n",
       "1                             Sooo SAD  negative  \n",
       "2                          bullying me  negative  \n",
       "3                       leave me alone  negative  \n",
       "4                        Sons of ****,  negative  "
      ]
     },
     "execution_count": 6,
     "metadata": {},
     "output_type": "execute_result"
    }
   ],
   "source": [
    "# Function for clean the unwanted characters e.t.c \n",
    "def clean_text(text):\n",
    "    text = re.sub(r\"http\\S+\", \"\", text)  # Remove URLs\n",
    "    text = re.sub(r\"@\\w+\", \"\", text)  # Remove mentions\n",
    "    text = re.sub(r\"#\\w+\", \"\", text)  # Remove hashtags\n",
    "    text = text.lower()  # Convert to lowercase\n",
    "    text = re.sub(f\"[{string.punctuation}]\", \"\", text)  # Remove punctuation\n",
    "    text = re.sub(r\"\\d+\", \"\", text)  # Remove numbers\n",
    "    text = re.sub(r\"\\s+\", \" \", text)  # Remove extra spaces\n",
    "    return text.strip()\n",
    "\n",
    "# Clean the 'text' column\n",
    "data['text'] = data['text'].apply(clean_text)\n",
    "\n",
    "# Display clean Data\n",
    "print(\"Clean Data:\")\n",
    "data.head()"
   ]
  },
  {
   "cell_type": "code",
   "execution_count": 7,
   "id": "aede2bd7-0eb2-4ed7-8ad3-e06e3e85405f",
   "metadata": {},
   "outputs": [
    {
     "name": "stdout",
     "output_type": "stream",
     "text": [
      "\n",
      "Sentiment distribution:\n",
      " sentiment\n",
      "1    11117\n",
      "2     8582\n",
      "0     7781\n",
      "Name: count, dtype: int64\n"
     ]
    }
   ],
   "source": [
    "# Encode Sentiment Labels\n",
    "label_mapping = {'negative': 0, 'neutral': 1, 'positive': 2}\n",
    "data['sentiment'] = data['sentiment'].map(label_mapping)\n",
    "\n",
    "# Check label distribution\n",
    "print(\"\\nSentiment distribution:\\n\", data['sentiment'].value_counts())"
   ]
  },
  {
   "cell_type": "markdown",
   "id": "0989f3c5-ef5d-4a11-a67f-76bbee51ebf7",
   "metadata": {},
   "source": [
    "## Split data for Training and Testing Set\n",
    "---\n",
    "* X set independent column **test**\n",
    "* y set dependent column **sentiment**\n",
    "* Then transform text data to numeric using TD-IDF\n",
    "* Scale the TD-IDF features\n",
    "* save vector & scalar .pkl\n",
    "* visualize TD-IDF Features\n",
    "* Train_Test Split 80% train, 20% test by using Random_state"
   ]
  },
  {
   "cell_type": "code",
   "execution_count": 8,
   "id": "98311a3c-0d7e-4d4e-b023-c59a70306ed5",
   "metadata": {},
   "outputs": [],
   "source": [
    "# Split Data into Training and Testing Sets\n",
    "\n",
    "X = data['text']\n",
    "y = data['sentiment']"
   ]
  },
  {
   "cell_type": "code",
   "execution_count": 35,
   "id": "0712a07c-9872-4081-9c8e-451f653c07f2",
   "metadata": {},
   "outputs": [],
   "source": [
    "# Transform text data into numerical form using TF-IDF\n",
    "\n",
    "vectorizer = TfidfVectorizer(max_features=5000, stop_words='english', ngram_range=(1, 2))\n",
    "X_tfidf = vectorizer.fit_transform(X)"
   ]
  },
  {
   "cell_type": "code",
   "execution_count": 36,
   "id": "7a14bacf-47ee-4b93-b29d-bf62b93ef769",
   "metadata": {},
   "outputs": [],
   "source": [
    "# Scale the TF-IDF features\n",
    "\n",
    "scaler = StandardScaler(with_mean=False)  # with_mean=False is required for sparse matrices\n",
    "X_tfidf_scaled = scaler.fit_transform(X_tfidf)"
   ]
  },
  {
   "cell_type": "code",
   "execution_count": 37,
   "id": "2e398913-0eac-4d08-b764-b09b6df90330",
   "metadata": {},
   "outputs": [],
   "source": [
    "# Split Data into Training and Testing Sets\n",
    "X_train, X_test, y_train, y_test = train_test_split(X_tfidf, y, test_size=0.2, random_state=42)"
   ]
  },
  {
   "cell_type": "code",
   "execution_count": 38,
   "id": "f8382d8a-1e8f-4685-956d-3919f93ac7eb",
   "metadata": {},
   "outputs": [],
   "source": [
    "# Handle Imbalanced Data\n",
    "smote = SMOTE(random_state=42)\n",
    "X_train_resampled, y_train_resampled = smote.fit_resample(X_train, y_train)"
   ]
  },
  {
   "cell_type": "code",
   "execution_count": 39,
   "id": "0337112c-0f5a-4e30-92d6-45e283615389",
   "metadata": {},
   "outputs": [],
   "source": [
    "# Scale Features\n",
    "scaler = StandardScaler(with_mean=False)\n",
    "X_train_scaled = scaler.fit_transform(X_train_resampled)\n",
    "X_test_scaled = scaler.transform(X_test)"
   ]
  },
  {
   "cell_type": "code",
   "execution_count": 40,
   "id": "570cecf4-7347-474b-8e14-d2bcecbd7efd",
   "metadata": {},
   "outputs": [
    {
     "name": "stdout",
     "output_type": "stream",
     "text": [
      "Vectorizer saved successfully as 'vectorizer.pkl'.\n",
      "Scaler saved successfully as 'scaler.pkl'.\n"
     ]
    }
   ],
   "source": [
    "# Save vectorizer and scaler\n",
    "try:\n",
    "    joblib.dump(vectorizer, 'vectorizer.pkl')\n",
    "    print(\"Vectorizer saved successfully as 'vectorizer.pkl'.\")\n",
    "except Exception as e:\n",
    "    print(f\"Error saving vectorizer: {e}\")\n",
    "\n",
    "try:\n",
    "    joblib.dump(scaler, 'scaler.pkl')\n",
    "    print(\"Scaler saved successfully as 'scaler.pkl'.\")\n",
    "except Exception as e:\n",
    "    print(f\"Error saving scaler: {e}\")"
   ]
  },
  {
   "cell_type": "code",
   "execution_count": 41,
   "id": "4e8bc4c8-654e-435c-adb1-fd14dfd6ad98",
   "metadata": {},
   "outputs": [
    {
     "data": {
      "image/png": "[encoded data removed]",
      "text/plain": [
       "<Figure size 500x500 with 1 Axes>"
      ]
     },
     "metadata": {},
     "output_type": "display_data"
    }
   ],
   "source": [
    "# Visualize TF-IDF Features\n",
    "tfidf_df = pd.DataFrame(\n",
    "    X_tfidf.toarray(),\n",
    "    columns=vectorizer.get_feature_names_out()\n",
    ")\n",
    "top_tfidf = tfidf_df.sum().sort_values(ascending=False).head(20)\n",
    "plt.figure(figsize=(5, 5))\n",
    "top_tfidf.plot(kind='bar', color='skyblue')\n",
    "plt.title(\"Top 20 TF-IDF Features\")\n",
    "plt.xlabel(\"Feature\")\n",
    "plt.ylabel(\"TF-IDF Score\")\n",
    "plt.savefig('top_tfidf_features.png')\n",
    "plt.show()"
   ]
  },
  {
   "cell_type": "markdown",
   "id": "43597e3a-7b75-4b55-8d9b-002602607d9b",
   "metadata": {},
   "source": [
    "# Train Model & Save\n",
    "---"
   ]
  },
  {
   "cell_type": "markdown",
   "id": "aa9263a5-9ce6-448d-8b34-9e6e6782f567",
   "metadata": {},
   "source": [
    "## Train Logistic Regression Model"
   ]
  },
  {
   "cell_type": "code",
   "execution_count": 42,
   "id": "b158b3ab-944f-463f-8107-a1f3303d2b9d",
   "metadata": {},
   "outputs": [
    {
     "name": "stdout",
     "output_type": "stream",
     "text": [
      "\n",
      "Best parameters for Logistic Regression: {'C': 1}\n"
     ]
    }
   ],
   "source": [
    "# Train Logistic Regression Model with Hyperparameter Tuning\n",
    "param_grid_lr = {'C': [0.0001, 0.001, 0.1, 1, 2]}\n",
    "logistic_model = GridSearchCV(LogisticRegression(max_iter=5000, random_state=42), param_grid_lr, cv=5)\n",
    "logistic_model.fit(X_train, y_train)\n",
    "print(\"\\nBest parameters for Logistic Regression:\", logistic_model.best_params_)\n"
   ]
  },
  {
   "cell_type": "code",
   "execution_count": 43,
   "id": "80e4b708-d046-480f-96d6-3fb28ae5fe84",
   "metadata": {},
   "outputs": [
    {
     "data": {
      "text/plain": [
       "['logistic_model.pkl']"
      ]
     },
     "execution_count": 43,
     "metadata": {},
     "output_type": "execute_result"
    }
   ],
   "source": [
    "# Save the trained model\n",
    "joblib.dump(logistic_model, 'logistic_model.pkl')"
   ]
  },
  {
   "cell_type": "markdown",
   "id": "257a5253-77f7-4f29-8921-1207877c4c16",
   "metadata": {},
   "source": [
    "## Evaluate the Model\n",
    "---"
   ]
  },
  {
   "cell_type": "code",
   "execution_count": 44,
   "id": "6a7e3c75-30b8-4e1e-9afe-375e9fa858a7",
   "metadata": {},
   "outputs": [
    {
     "name": "stdout",
     "output_type": "stream",
     "text": [
      "\n",
      "Classification Report:\n",
      "              precision    recall  f1-score   support\n",
      "\n",
      "    Negative       0.72      0.57      0.63      1572\n",
      "     Neutral       0.62      0.75      0.68      2236\n",
      "    Positive       0.77      0.71      0.74      1688\n",
      "\n",
      "    accuracy                           0.69      5496\n",
      "   macro avg       0.70      0.68      0.68      5496\n",
      "weighted avg       0.70      0.69      0.69      5496\n",
      "\n"
     ]
    }
   ],
   "source": [
    "# Evaluate the Model\n",
    "y_pred = logistic_model.predict(X_test)\n",
    "\n",
    "print(\"\\nClassification Report:\")\n",
    "report = classification_report(y_test, y_pred, target_names=['Negative', 'Neutral', 'Positive'])\n",
    "print(report)"
   ]
  },
  {
   "cell_type": "code",
   "execution_count": 53,
   "id": "e8769037-ada2-4fe4-ac76-d2c147d5a414",
   "metadata": {},
   "outputs": [
    {
     "name": "stdout",
     "output_type": "stream",
     "text": [
      "\n",
      "Accuracy: 0.69\n",
      "F1-Score: 0.69\n"
     ]
    }
   ],
   "source": [
    "# Save classification report an Accuracy\n",
    "with open('classification_report.txt', 'w') as f:\n",
    "    f.write(report)\n",
    "\n",
    "accuracy = accuracy_score(y_test, y_pred)\n",
    "f1 = f1_score(y_test, y_pred, average='weighted')\n",
    "print(f\"\\nAccuracy: {accuracy:.2f}\")\n",
    "print(f\"F1-Score: {f1:.2f}\")"
   ]
  },
  {
   "cell_type": "markdown",
   "id": "57badc42-c527-4a13-858b-29c652472b82",
   "metadata": {},
   "source": [
    "## Accuracy & F1-Score Visualization"
   ]
  },
  {
   "cell_type": "code",
   "execution_count": 55,
   "id": "27202836-95be-4469-bd58-238f3250c6b0",
   "metadata": {},
   "outputs": [
    {
     "data": {
      "image/png": "[encoded data removed]",
      "text/plain": [
       "<Figure size 500x500 with 1 Axes>"
      ]
     },
     "metadata": {},
     "output_type": "display_data"
    }
   ],
   "source": [
    "# Accuracy and F1-Score Visualization\n",
    "plt.figure(figsize=(5, 5))\n",
    "plt.bar(['Accuracy', 'F1-Score'], [accuracy, f1], color=['green', 'blue'])\n",
    "plt.ylim(0, 1)\n",
    "plt.title('Model Evaluation Metrics')\n",
    "plt.ylabel('Score')\n",
    "plt.savefig('evaluation_metrics_graph.png')\n",
    "plt.show()\n"
   ]
  },
  {
   "cell_type": "markdown",
   "id": "593742bc-7d76-4326-b8c3-a060c49b79f5",
   "metadata": {},
   "source": [
    "## Precision-Recall Curve"
   ]
  },
  {
   "cell_type": "code",
   "execution_count": 56,
   "id": "39c018f8-50c2-4e8a-9f78-2955ff0978be",
   "metadata": {},
   "outputs": [
    {
     "data": {
      "image/png": "[encoded data removed]",
      "text/plain": [
       "<Figure size 800x600 with 1 Axes>"
      ]
     },
     "metadata": {},
     "output_type": "display_data"
    }
   ],
   "source": [
    "# Precision-Recall Curve\n",
    "# Binarize the output for multi-class precision-recall calculation\n",
    "y_test_binarized = label_binarize(y_test, classes=[0, 1, 2])\n",
    "n_classes = y_test_binarized.shape[1]\n",
    "\n",
    "# Get decision function scores\n",
    "y_scores = logistic_model.decision_function(X_test_scaled)\n",
    "\n",
    "# Plot Precision-Recall curve for each class\n",
    "plt.figure(figsize=(8, 6))\n",
    "for i in range(n_classes):\n",
    "    precision, recall, _ = precision_recall_curve(y_test_binarized[:, i], y_scores[:, i])\n",
    "    plt.plot(recall, precision, lw=2, label=f'Class {i} ({\"Negative\" if i == 0 else \"Neutral\" if i == 1 else \"Positive\"})')\n",
    "\n",
    "plt.xlabel(\"Recall\")\n",
    "plt.ylabel(\"Precision\")\n",
    "plt.title(\"Precision-Recall Curve for Each Class\")\n",
    "plt.legend(loc=\"best\")\n",
    "plt.savefig('precision_recall_curve_multiclass.png')\n",
    "plt.show()\n",
    "\n"
   ]
  },
  {
   "cell_type": "markdown",
   "id": "f768307d-eda0-41d3-82ee-dc87e9703142",
   "metadata": {},
   "source": [
    "## Predict Sentiment for New Tweets"
   ]
  },
  {
   "cell_type": "code",
   "execution_count": 66,
   "id": "71aabc43-bdec-422a-ab78-d221c6dae1f9",
   "metadata": {},
   "outputs": [],
   "source": [
    "# Predict Sentiment for New Tweets\n",
    "new_tweets = [\n",
    "    \"I absolutely love this product!\",\n",
    "    \"This is the worst experience ever.\",\n",
    "    \"I'm not sure if this is worth it, still thinking about it. it is good for me or bad\",\n",
    "    \"Not sure how I feel about this.\",\n",
    "    \"The service was good but could be better.\",\n",
    "    \"This movie has an average storyline, not too good, not too bad.\",\n",
    "    \"The new update is fantastic! I'm really enjoying the improvements.\",\n",
    "    \"Terrible customer service, I am so disappointed!\",\n",
    "    \"The event starts at 10 AM tomorrow. Check your schedule.\",\n",
    "    \"Just an ordinary day, nothing special to share nothing good or bad.\"\n",
    "]\n",
    "\n",
    "# Clean and transform new tweets\n",
    "cleaned_tweets = [clean_text(tweet) for tweet in new_tweets]\n",
    "new_tweets_tfidf = vectorizer.transform(cleaned_tweets)\n",
    "new_tweets_tfidf_scaled = scaler.transform(new_tweets_tfidf)"
   ]
  },
  {
   "cell_type": "code",
   "execution_count": 67,
   "id": "adfa180b-075c-4e60-9491-e59976c54f4c",
   "metadata": {},
   "outputs": [
    {
     "name": "stdout",
     "output_type": "stream",
     "text": [
      "\n",
      "Predictions for New Tweets:\n",
      "                                               Tweet Predicted Sentiment\n",
      "0                    I absolutely love this product!            Positive\n",
      "1                 This is the worst experience ever.            Negative\n",
      "2  I'm not sure if this is worth it, still thinki...             Neutral\n",
      "3                    Not sure how I feel about this.            Negative\n",
      "4          The service was good but could be better.            Positive\n",
      "5  This movie has an average storyline, not too g...             Neutral\n",
      "6  The new update is fantastic! I'm really enjoyi...            Positive\n",
      "7   Terrible customer service, I am so disappointed!            Negative\n",
      "8  The event starts at 10 AM tomorrow. Check your...            Positive\n",
      "9  Just an ordinary day, nothing special to share...             Neutral\n"
     ]
    }
   ],
   "source": [
    "# Predict sentiment\n",
    "predictions = logistic_model.predict(new_tweets_tfidf_scaled)\n",
    "\n",
    "results = pd.DataFrame({\n",
    "    'Tweet': new_tweets,\n",
    "    'Predicted Sentiment': predictions\n",
    "})\n",
    "\n",
    "# Map numeric labels back to sentiment\n",
    "results['Predicted Sentiment'] = results['Predicted Sentiment'].map({0: 'Negative', 1: 'Neutral', 2: 'Positive'})\n",
    "\n",
    "print(\"\\nPredictions for New Tweets:\")\n",
    "print(results)\n"
   ]
  },
  {
   "cell_type": "code",
   "execution_count": 68,
   "id": "1570613c-9be7-4b0b-bf03-095e5f6ac9ba",
   "metadata": {},
   "outputs": [],
   "source": [
    "# Save predictions\n",
    "results.to_csv('new_tweet_predictions.csv', index=False)"
   ]
  },
  {
   "cell_type": "code",
   "execution_count": null,
   "id": "4972b2d1-626a-477e-87dd-bd429bb993f1",
   "metadata": {},
   "outputs": [],
   "source": []
  }
 ],
 "metadata": {
  "kernelspec": {
   "display_name": "Python 3 (ipykernel)",
   "language": "python",
   "name": "python3"
  },
  "language_info": {
   "codemirror_mode": {
    "name": "ipython",
    "version": 3
   },
   "file_extension": ".py",
   "mimetype": "text/x-python",
   "name": "python",
   "nbconvert_exporter": "python",
   "pygments_lexer": "ipython3",
   "version": "3.11.7"
  },
  "widgets": {
   "application/vnd.jupyter.widget-state+json": {
    "state": {},
    "version_major": 2,
    "version_minor": 0
   }
  }
 },
 "nbformat": 4,
 "nbformat_minor": 5
}
